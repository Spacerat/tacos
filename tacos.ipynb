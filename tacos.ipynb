{
 "cells": [
  {
   "cell_type": "code",
   "execution_count": 147,
   "metadata": {
    "collapsed": true
   },
   "outputs": [],
   "source": [
    "import os\n",
    "import time\n",
    "from IPython.display import clear_output, display, HTML\n",
    "def show_figs(file_name=\"graph.png\", directory=\"\"):\n",
    "    s = \"\"\"<figure>\\n\\t<img src=\"{0}?{1}\" alt=\"The figure\" >\\n</figure>\"\"\".format(os.path.join(directory, file_name),time.time())\n",
    "    display(HTML(s))"
   ]
  },
  {
   "cell_type": "code",
   "execution_count": 152,
   "metadata": {
    "collapsed": false
   },
   "outputs": [],
   "source": [
    "import pandas\n",
    "\n",
    "\n",
    "def split_or_none(v):\n",
    "    if pandas.isnull(v): return []\n",
    "    return [x.strip() for x in v.split(',')]\n",
    "\n",
    "class Recipe(object):\n",
    "    def __init__(self, name='Unknown', page=-1, tool=None, replaceable_dependencies=None, strict_dependencies=None, serve_with=None):\n",
    "        self.name=name\n",
    "        self.tools=split_or_none(tool)\n",
    "        self.page=page\n",
    "        self.replaceable_dependencies = split_or_none(replaceable_dependencies)\n",
    "        self.strict_dependencies = split_or_none(strict_dependencies)\n",
    "        self.serve_with = split_or_none(serve_with)\n",
    "    \n",
    "    def __hash__(self):\n",
    "        return self.page\n",
    "        \n",
    "    def __repr__(self):\n",
    "        return \"[{}] {}\".format(self.page, self.name)\n",
    "\n",
    "\n",
    "data = pandas.read_csv('tacos.csv')\n",
    "keys = [x.lower().replace(' ', '_') for x in data]\n",
    "recipes = {}\n",
    "for _, v in data.iterrows():\n",
    "    recipe = Recipe(**dict(zip(keys, v)))\n",
    "    recipes[recipe.page] = recipe\n",
    "    \n",
    "\n"
   ]
  },
  {
   "cell_type": "code",
   "execution_count": null,
   "metadata": {
    "collapsed": false
   },
   "outputs": [],
   "source": []
  },
  {
   "cell_type": "code",
   "execution_count": 211,
   "metadata": {
    "collapsed": false
   },
   "outputs": [
    {
     "data": {
      "text/html": [
       "<figure>\n",
       "\t<img src=\"graph.png?1467863335.35\" alt=\"The figure\" >\n",
       "</figure>"
      ],
      "text/plain": [
       "<IPython.core.display.HTML object>"
      ]
     },
     "metadata": {},
     "output_type": "display_data"
    }
   ],
   "source": [
    "def make_graph(searches = []):\n",
    "    \n",
    "    G = pygraphviz.AGraph(directed=True, rankdir=\"LR\", style='filled')\n",
    "    G.node_attr['style']='filled'\n",
    "    allowed_tools = ['oven', 'grill', 'microwave']\n",
    "    special_tool = 'assemble'\n",
    "    for recipe in recipes.values():\n",
    "        color = 'red' if any([x not in allowed_tools for x in recipe.tools]) else 'black'\n",
    "        color = 'green' if special_tool in recipe.tools else color\n",
    "        fillcolor = 'yellow' if any(search in recipe.name.lower() for search in searches) else 'white'\n",
    "        n = G.add_node(recipe, color=color, fillcolor=fillcolor)\n",
    "    for recipe in recipes.values():\n",
    "        for other in (recipes[x] for x in recipe.strict_dependencies):\n",
    "            G.add_edge(recipe, other)\n",
    "        for other in (recipes[x] for x in recipe.replaceable_dependencies):\n",
    "            G.add_edge(recipe, other, color='blue')\n",
    "        for other in (recipes[x] for x in recipe.serve_with):\n",
    "            G.add_edge(recipe, other, style='dashed')\n",
    "    if searches:\n",
    "        G.add_node(\"Searching for {}\".format(\", \".join(searches)), shape='rectangle')\n",
    "    # G.add_edges_from([(1,2),(1,3),(2,4),(3,6),(4,5),(4,6),(5,7),(5,8)])\n",
    "    # Optional prog=[‘neato’|’dot’|’twopi’|’circo’|’fdp’|’nop’] will use specified graphviz layout method.\n",
    "    G.layout(prog='dot', args=\"-Goverlap=false\")\n",
    "    G.draw('graph.png')\n",
    "    show_figs('graph.png')\n",
    "    \n",
    "make_graph(['bean', 'potato', 'tofu'])"
   ]
  },
  {
   "cell_type": "code",
   "execution_count": null,
   "metadata": {
    "collapsed": false
   },
   "outputs": [],
   "source": []
  }
 ],
 "metadata": {
  "kernelspec": {
   "display_name": "Python 2",
   "language": "python",
   "name": "python2"
  },
  "language_info": {
   "codemirror_mode": {
    "name": "ipython",
    "version": 2
   },
   "file_extension": ".py",
   "mimetype": "text/x-python",
   "name": "python",
   "nbconvert_exporter": "python",
   "pygments_lexer": "ipython2",
   "version": "2.7.12"
  }
 },
 "nbformat": 4,
 "nbformat_minor": 0
}
